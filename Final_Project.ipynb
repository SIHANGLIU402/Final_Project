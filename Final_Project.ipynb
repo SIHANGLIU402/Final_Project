{
 "cells": [
  {
   "cell_type": "code",
   "execution_count": 5,
   "id": "a2834f9a",
   "metadata": {},
   "outputs": [
    {
     "name": "stdout",
     "output_type": "stream",
     "text": [
      "Input file name here: einstein.txt\n",
      "file exists\n",
      "Reading the file...\n",
      "Enter space-separated words: the\n",
      "The co-occurance for: the\n",
      "Lines: 3, 4, 7\n",
      "Enter space-separated words: the is\n",
      "The co-occurance for: the, is\n",
      "Lines: 3, 7\n",
      "Enter space-separated words: test\n",
      "The co-occurance for: test\n",
      "Line: None2.\n",
      "Enter space-separated words: q\n"
     ]
    }
   ],
   "source": [
    "import string\n",
    "#using defaultdict\n",
    "from collections import defaultdict\n",
    "\n",
    "class Project(object):\n",
    "    def __init__(self, D = {}):\n",
    "        self.D = D\n",
    "        #self.inp = inp\n",
    "        #self = self\n",
    "        #self.f = self.open_file()\n",
    "        #self.dic = self.read_data()\n",
    "        \n",
    "\n",
    "    #opening file\n",
    "    def open_file(self):\n",
    "        while True:\n",
    "            try:\n",
    "                f = open(input(\"Input file name here: \"), \"r\")\n",
    "                f = f.read()\n",
    "            except FileNotFoundError:\n",
    "                print(\"file not found, please try again\")\n",
    "            else:\n",
    "                print(\"file exists\")\n",
    "                return f\n",
    "                break\n",
    "\n",
    "    def read_data(self, f):\n",
    "        print('Reading the file...')\n",
    "        self.D = {}\n",
    "        line_count = 0\n",
    "        str(f)\n",
    "        fsplit = f.split('\\n')\n",
    "        for line in fsplit:\n",
    "            line_count += 1\n",
    "            line = line.lower()\n",
    "            line = line.translate(str.maketrans('', '', string.punctuation))\n",
    "            line = line.split()\n",
    "            line = [word for word in line if len(word) >= 2]\n",
    "            for word in line:\n",
    "                if word in self.D:\n",
    "                    self.D[word].add(line_count)\n",
    "                else:\n",
    "                    self.D[word] = {line_count}\n",
    "        return self.D\n",
    "\n",
    "    def find_cooccurrence(self,inp):\n",
    "        #read input into words seperated by spaces\n",
    "        input_word = inp.split(' ')\n",
    "        result = set()\n",
    "        print('The co-occurance for: '+', '.join(input_word))\n",
    "        #interating through the input words\n",
    "        for i in input_word:\n",
    "            #change all input into lower cases and remove all punctuation\n",
    "            i = i.lower()\n",
    "            i = i.translate(str.maketrans('', '', string.punctuation))\n",
    "            #print None if the input is empty\n",
    "            if not inp:\n",
    "                print('Lines: None1.')\n",
    "            #print None if the input is not in the dictionary\n",
    "            elif i not in self.D:\n",
    "                print ('Line: None2.')\n",
    "                return\n",
    "            #find the occurance of input words and store into a data set\n",
    "            else:\n",
    "                if len(result) == 0:\n",
    "                    result.update(self.D[i])\n",
    "                else:\n",
    "                    result.intersection_update(self.D[i])\n",
    "        print ('Lines:',', '.join(str(lnum) for lnum in result))\n",
    "\n",
    "def main():\n",
    "    df = Project()\n",
    "    f = df.open_file()\n",
    "    df.read_data(f)\n",
    "    #f = df.open_file()\n",
    "    #dic = df.read_data(f)\n",
    "    inp = ''\n",
    "\n",
    "    #This will keep iterate until q is entered\n",
    "    while True:\n",
    "        inp = input('Enter space-separated words: ')\n",
    "        if inp=='q':\n",
    "            break\n",
    "        df.find_cooccurrence(inp)\n",
    "    \n",
    "if __name__ == '__main__':\n",
    "    main()\n"
   ]
  },
  {
   "cell_type": "code",
   "execution_count": 7,
   "id": "fcf2672b",
   "metadata": {},
   "outputs": [
    {
     "name": "stdout",
     "output_type": "stream",
     "text": [
      "Input file name here: einstien.txt\n",
      "file not found, please try again\n",
      "Input file name here: einstein.txt\n",
      "file exists\n",
      "Try not to become a man of success, but rather try to become a man of value. \n",
      "Look deep into nature, and then you will understand everything better.\n",
      "The true sign of intelligence is not knowledge but imagination. \n",
      "We cannot solve our problems with the same thinking we used when we created them. \n",
      "Weakness of attitude becomes weakness of character.\n",
      "You can't blame gravity for falling in love. \n",
      "The difference between stupidity and genius is that genius has its limits. \n",
      "\n"
     ]
    }
   ],
   "source": [
    "#function test 1\n",
    "x = df.open_file()\n",
    "print(x)"
   ]
  },
  {
   "cell_type": "code",
   "execution_count": 9,
   "id": "df3e0641",
   "metadata": {},
   "outputs": [
    {
     "name": "stdout",
     "output_type": "stream",
     "text": [
      "Reading the file...\n",
      "{'try': {1}, 'not': {1, 3}, 'become': {1}, 'man': {1}, 'success': {1}, 'but': {1, 3}, 'rather': {1}, 'value': {1}, 'look': {2}, 'deep': {2}, 'into': {2}, 'nature': {2}, 'and': {2, 7}, 'then': {2}, 'you': {2, 6}, 'will': {2}, 'understand': {2}, 'everything': {2}, 'better': {2}, 'the': {3, 4, 7}, 'true': {3}, 'sign': {3}, 'intelligence': {3}, 'knowledge': {3}, 'imagination': {3}, 'cannot': {4}, 'solve': {4}, 'our': {4}, 'problems': {4}, 'with': {4}, 'same': {4}, 'thinking': {4}, 'used': {4}, 'when': {4}, 'created': {4}, 'them': {4}, 'weakness': {5}, 'attitude': {5}, 'becomes': {5}, 'character': {5}, 'cant': {6}, 'blame': {6}, 'gravity': {6}, 'for': {6}, 'falling': {6}, 'love': {6}, 'difference': {7}, 'between': {7}, 'stupidity': {7}, 'genius': {7}, 'that': {7}, 'has': {7}, 'its': {7}, 'limits': {7}}\n"
     ]
    }
   ],
   "source": [
    "#function test 2\n",
    "y = df.read_data(x)\n",
    "print(y)"
   ]
  },
  {
   "cell_type": "code",
   "execution_count": 8,
   "id": "4337a413",
   "metadata": {},
   "outputs": [
    {
     "name": "stdout",
     "output_type": "stream",
     "text": [
      "Enter space-separated words: the and\n",
      "The co-occurance for: the, and\n",
      "Lines: 7\n"
     ]
    }
   ],
   "source": [
    "#function test 3\n",
    "a = inp = input('Enter space-separated words: ')\n",
    "z = df.find_cooccurrence(a)"
   ]
  }
 ],
 "metadata": {
  "kernelspec": {
   "display_name": "Python 3 (ipykernel)",
   "language": "python",
   "name": "python3"
  },
  "language_info": {
   "codemirror_mode": {
    "name": "ipython",
    "version": 3
   },
   "file_extension": ".py",
   "mimetype": "text/x-python",
   "name": "python",
   "nbconvert_exporter": "python",
   "pygments_lexer": "ipython3",
   "version": "3.9.7"
  }
 },
 "nbformat": 4,
 "nbformat_minor": 5
}
